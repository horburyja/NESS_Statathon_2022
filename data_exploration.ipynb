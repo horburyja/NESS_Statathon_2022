{
 "cells": [
  {
   "cell_type": "code",
   "execution_count": null,
   "metadata": {},
   "outputs": [],
   "source": [
    "# import utility modules\n",
    "import matplotlib.pyplot as plt\n",
    "import seaborn as sns\n",
    "import pandas as pd\n",
    "import numpy as np"
   ]
  },
  {
   "cell_type": "code",
   "execution_count": null,
   "metadata": {},
   "outputs": [],
   "source": [
    "# load raw data\n",
    "train_clean = pd.read_csv('data/train_clean.csv')\n",
    "\n",
    "train_clean_non_numeric = train_clean.select_dtypes(exclude=[np.number])\n",
    "non_numeric_cols = train_clean_non_numeric.columns.values\n",
    "\n",
    "train_clean_numeric = train_clean.select_dtypes(include=[np.number])\n",
    "numeric_cols = train_clean_numeric.columns.values"
   ]
  },
  {
   "cell_type": "code",
   "execution_count": null,
   "metadata": {},
   "outputs": [],
   "source": [
    "# generate histograms\n",
    "for col in numeric_cols:\n",
    "    hist = train_clean[[col]].hist(bins=100) # keep number of bins at 100\n",
    "    plt.title(\"{}_hist\".format(col))\n",
    "    plt.savefig('figs/histograms/{}_hist.png'.format(col))"
   ]
  }
 ],
 "metadata": {
  "kernelspec": {
   "display_name": "Python 3.10.2 64-bit",
   "language": "python",
   "name": "python3"
  },
  "language_info": {
   "name": "python",
   "version": "3.10.2"
  },
  "orig_nbformat": 4,
  "vscode": {
   "interpreter": {
    "hash": "413c54d42d867d78bc5693b88112002b4b75f03abc9fed1665b973f73c05d110"
   }
  }
 },
 "nbformat": 4,
 "nbformat_minor": 2
}
