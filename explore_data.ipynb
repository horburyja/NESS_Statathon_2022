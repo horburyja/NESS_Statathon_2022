{
 "cells": [
  {
   "cell_type": "code",
   "execution_count": 1,
   "metadata": {},
   "outputs": [
    {
     "name": "stdout",
     "output_type": "stream",
     "text": [
      "<class 'pandas.core.frame.DataFrame'>\n",
      "RangeIndex: 1048575 entries, 0 to 1048574\n",
      "Data columns (total 18 columns):\n",
      " #   Column             Non-Null Count    Dtype  \n",
      "---  ------             --------------    -----  \n",
      " 0   id                 1048575 non-null  int64  \n",
      " 1   cancel             1048575 non-null  int64  \n",
      " 2   year               1048575 non-null  int64  \n",
      " 3   zip.code           1047624 non-null  float64\n",
      " 4   house.color        1047630 non-null  object \n",
      " 5   ni.age             1047573 non-null  float64\n",
      " 6   len.at.res         1047608 non-null  float64\n",
      " 7   credit             1047668 non-null  object \n",
      " 8   coverage.type      1047595 non-null  object \n",
      " 9   dwelling.type      1047582 non-null  object \n",
      " 10  premium            1047618 non-null  float64\n",
      " 11  sales.channel      1047550 non-null  object \n",
      " 12  ni.gender          1047615 non-null  object \n",
      " 13  ni.marital.status  1047581 non-null  float64\n",
      " 14  n.adults           1047644 non-null  float64\n",
      " 15  n.children         1047637 non-null  float64\n",
      " 16  tenure             1047595 non-null  float64\n",
      " 17  claim.ind          1047589 non-null  float64\n",
      "dtypes: float64(9), int64(3), object(6)\n",
      "memory usage: 144.0+ MB\n",
      "None\n"
     ]
    }
   ],
   "source": [
    "# import utility modules\n",
    "import matplotlib.pyplot as plt\n",
    "import pandas as pd\n",
    "import numpy as np\n",
    "\n",
    "# load raw data\n",
    "train_raw = pd.read_csv('data/train.csv')\n",
    "print(train_raw.info())"
   ]
  },
  {
   "cell_type": "markdown",
   "metadata": {},
   "source": [
    "Variable Identification:\n",
    "+ should variables be classified further (i.e., discrete, continuous, ordinal, nominal)?"
   ]
  },
  {
   "cell_type": "code",
   "execution_count": null,
   "metadata": {},
   "outputs": [],
   "source": [
    "# separate variables by numeric or categorical\n",
    "train_raw_categorical = train_raw.select_dtypes(exclude=[np.number])\n",
    "categoric_cols = train_raw_categorical.columns.values\n",
    "train_raw_numerical = train_raw.select_dtypes(include=[np.number])\n",
    "numeric_cols = train_raw_numerical.columns.values\n",
    "\n",
    "categoric_cols = np.insert(categoric_cols, 0, 'cancel') # move 'cancel' to categorical\n",
    "categoric_cols = np.append(categoric_cols, 'ni.marital.status') # move 'marital.status' to categorical\n",
    "numeric_cols = numeric_cols[2:] # remove 'id' and 'cancel' from numerical\n",
    "\n",
    "print(\"Categoric variables: \", categoric_cols)\n",
    "print(\"Numeric variables: \", numeric_cols)"
   ]
  },
  {
   "cell_type": "code",
   "execution_count": null,
   "metadata": {},
   "outputs": [],
   "source": [
    "print(\"--Categoric--\")\n",
    "for col in categoric_cols:\n",
    "    print(\"{}: \".format(col), train_raw[col].unique())\n",
    "\n",
    "print(\"--Numeric--\")\n",
    "large = ['zip.code', 'ni.age', 'len.at.res', 'premium']\n",
    "for col in numeric_cols:\n",
    "    if col not in large:\n",
    "        print(\"{}: \".format(col), train_raw[col].unique())"
   ]
  },
  {
   "cell_type": "markdown",
   "metadata": {},
   "source": [
    "From the above, one can observe that there are many missing values in the dataset. Additionally, some of the constraints implied in the dataset description are not being followed (i.e., values of cancel outside expected range, datatypes that are not consistent). A list of proposed constraints is shown below.\n",
    "\n",
    "Range Constraints:\n",
    "- cancel must be within [0, 2]\n",
    "- age must be within [18, 100] (tentative)\n",
    "- length at residence cannot be negative\n",
    "- premium cannot be negative\n",
    "\n",
    "Cross-validation Constraints:\n",
    "- tenure cannot exceed age\n",
    "- length at residence cannot exceed age\n",
    "- age and marital status must be logically consistent (tentative)\n",
    "\n",
    "Uniqueness Constraints:\n",
    "- all observations must be unique (tentative)\n",
    "\n",
    "Data-Type Constraints:\n",
    "- all features should have consistent data-types"
   ]
  },
  {
   "cell_type": "markdown",
   "metadata": {},
   "source": [
    "Analysis of Missing Values:"
   ]
  },
  {
   "cell_type": "code",
   "execution_count": null,
   "metadata": {},
   "outputs": [],
   "source": [
    "# missing data percentage list\n",
    "print(\"Missing training data:\")\n",
    "\n",
    "total_pct_missing, colnum = 0, 0\n",
    "for col in train_raw.columns:\n",
    "    mean_missing = np.mean(train_raw[col].isnull())\n",
    "    pct_missing = round(mean_missing * 100, 5) # round to 5 decimal places\n",
    "    total_pct_missing += pct_missing\n",
    "    \n",
    "    print(\"{}. {} - {}%\".format(colnum, col, pct_missing))\n",
    "    colnum += 1\n",
    "\n",
    "print(\"\\n{}% missing in total\".format(total_pct_missing))"
   ]
  },
  {
   "cell_type": "code",
   "execution_count": null,
   "metadata": {},
   "outputs": [],
   "source": [
    "# generate histograms\n",
    "for col in large:\n",
    "    hist = train_raw[[col]].hist(bins=100) # keep number of bins at 100\n",
    "    plt.title(\"{}_hist\".format(col))\n",
    "    plt.savefig('figs/histograms/{}_hist.png'.format(col))"
   ]
  }
 ],
 "metadata": {
  "kernelspec": {
   "display_name": "Python 3.10.2 64-bit",
   "language": "python",
   "name": "python3"
  },
  "language_info": {
   "codemirror_mode": {
    "name": "ipython",
    "version": 3
   },
   "file_extension": ".py",
   "mimetype": "text/x-python",
   "name": "python",
   "nbconvert_exporter": "python",
   "pygments_lexer": "ipython3",
   "version": "3.10.2"
  },
  "orig_nbformat": 4,
  "vscode": {
   "interpreter": {
    "hash": "413c54d42d867d78bc5693b88112002b4b75f03abc9fed1665b973f73c05d110"
   }
  }
 },
 "nbformat": 4,
 "nbformat_minor": 2
}
