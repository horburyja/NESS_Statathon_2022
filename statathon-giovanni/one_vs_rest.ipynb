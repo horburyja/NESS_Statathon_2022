{
 "cells": [
  {
   "cell_type": "code",
   "execution_count": 1,
   "metadata": {},
   "outputs": [],
   "source": [
    "import matplotlib.pyplot as plt\n",
    "import numpy as np\n",
    "import pandas as pd\n",
    "from sklearn.datasets import make_blobs\n",
    "from sklearn.multiclass import OneVsRestClassifier\n",
    "from sklearn.svm import LinearSVC\n",
    "from sklearn.model_selection import train_test_split\n",
    "from sklearn.metrics import plot_confusion_matrix\n",
    "from mlxtend.plotting import plot_decision_regions\n",
    "from imblearn.combine import SMOTETomek\n",
    "from imblearn.under_sampling import TomekLinks\n",
    "\n",
    "train = pd.read_csv('data/train_data_for_random_forest.csv')\n",
    "test = pd.read_csv('data/new_test_for_random_forest.csv')\n",
    "train = train.drop(axis=0, columns=['id'])\n",
    "train = train[train['cancel'] >= 0]\n",
    "\n",
    "# Generate data\n",
    "X = train.drop('cancel',axis=1)\n",
    "y = train['cancel']\n",
    "\n",
    "#Define SMOTE-Tomek Links\n",
    "resample=SMOTETomek(tomek=TomekLinks(sampling_strategy='majority'))\n",
    "X, y = resample.fit_resample(X, y)\n",
    "\n",
    "# Split into training and testing data\n",
    "X_train, X_test, y_train, y_test = train_test_split(X, y, test_size=0.33, random_state=42)\n",
    "\n",
    "# Create the SVM\n",
    "svm = LinearSVC(random_state=42, max_iter=100000)\n",
    "\n",
    "# Make it an OvR classifier\n",
    "ovr_classifier = OneVsRestClassifier(svm)\n",
    "\n",
    "# Fit the data to the OvR classifier\n",
    "ovr_classifier = ovr_classifier.fit(X_train, y_train)\n",
    "\n",
    "# Evaluate by means of a confusion matrix\n",
    "matrix = plot_confusion_matrix(ovr_classifier, X_test, y_test,\n",
    "                                 cmap=plt.cm.Blues,\n",
    "                                 normalize='true')\n",
    "plt.title('Confusion matrix for OvR classifier')\n",
    "plt.show(matrix)\n",
    "plt.show()\n",
    "\n",
    "# Plot decision boundary\n",
    "plot_decision_regions(X_test, y_test, clf=ovr_classifier, legend=2)\n",
    "plt.show()"
   ]
  }
 ],
 "metadata": {
  "interpreter": {
   "hash": "aee8b7b246df8f9039afb4144a1f6fd8d2ca17a180786b69acc140d282b71a49"
  },
  "kernelspec": {
   "display_name": "Python 3.10.4 64-bit",
   "language": "python",
   "name": "python3"
  },
  "language_info": {
   "codemirror_mode": {
    "name": "ipython",
    "version": 3
   },
   "file_extension": ".py",
   "mimetype": "text/x-python",
   "name": "python",
   "nbconvert_exporter": "python",
   "pygments_lexer": "ipython3",
   "version": "3.10.4"
  },
  "orig_nbformat": 4
 },
 "nbformat": 4,
 "nbformat_minor": 2
}
