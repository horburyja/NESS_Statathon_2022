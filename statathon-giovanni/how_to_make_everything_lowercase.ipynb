{
 "cells": [
  {
   "cell_type": "code",
   "execution_count": 5,
   "metadata": {},
   "outputs": [
    {
     "name": "stdout",
     "output_type": "stream",
     "text": [
      "(2412, 14)\n",
      "id                     int64\n",
      "tenure               float64\n",
      "claim.ind            float64\n",
      "n.adults             float64\n",
      "n.children             int64\n",
      "ni.gender             object\n",
      "ni.marital.status    float64\n",
      "premium              float64\n",
      "sales.channel         object\n",
      "coverage.type         object\n",
      "dwelling.type         object\n",
      "len.at.res           float64\n",
      "credit                object\n",
      "ni.age               float64\n",
      "dtype: object\n",
      "['id' 'tenure' 'claim.ind' 'n.adults' 'n.children' 'ni.marital.status'\n",
      " 'premium' 'len.at.res' 'ni.age']\n",
      "['ni.gender' 'sales.channel' 'coverage.type' 'dwelling.type' 'credit']\n"
     ]
    },
    {
     "data": {
      "text/plain": [
       "id                   0\n",
       "tenure               2\n",
       "claim.ind            2\n",
       "n.adults             4\n",
       "n.children           0\n",
       "ni.gender            1\n",
       "ni.marital.status    2\n",
       "premium              1\n",
       "sales.channel        5\n",
       "coverage.type        2\n",
       "dwelling.type        1\n",
       "len.at.res           3\n",
       "credit               2\n",
       "ni.age               3\n",
       "dtype: int64"
      ]
     },
     "execution_count": 5,
     "metadata": {},
     "output_type": "execute_result"
    }
   ],
   "source": [
    "import pandas as pd\n",
    "import numpy as np\n",
    "import seaborn as sns\n",
    "\n",
    "import matplotlib.pyplot as plt\n",
    "import matplotlib.mlab as mlab\n",
    "import matplotlib\n",
    "plt.style.use('ggplot')\n",
    "from matplotlib.pyplot import figure\n",
    "\n",
    "matplotlib.rcParams['figure.figsize'] = (12,8)\n",
    "\n",
    "pd.options.mode.chained_assignment = None\n",
    "\n",
    "# read the data\n",
    "df = pd.read_csv('data/clean.csv')\n",
    "\n",
    "# shape and data types of the data\n",
    "print(df.shape)\n",
    "print(df.dtypes)\n",
    "\n",
    "# select numeric columns\n",
    "df_numeric = df.select_dtypes(include=[np.number])\n",
    "numeric_cols = df_numeric.columns.values\n",
    "print(numeric_cols)\n",
    "\n",
    "# select non numeric columns\n",
    "df_non_numeric = df.select_dtypes(exclude=[np.number])\n",
    "non_numeric_cols = df_non_numeric.columns.values\n",
    "print(non_numeric_cols)\n",
    "\n",
    "df.isnull().sum()\n"
   ]
  },
  {
   "cell_type": "code",
   "execution_count": 6,
   "metadata": {},
   "outputs": [
    {
     "data": {
      "text/plain": [
       "m      1258\n",
       "f      1153\n",
       "NaN       1\n",
       "Name: ni.gender.lower, dtype: int64"
      ]
     },
     "execution_count": 6,
     "metadata": {},
     "output_type": "execute_result"
    }
   ],
   "source": [
    "# make everything lower case.\n",
    "df['ni.gender.lower'] = df['ni.gender'].str.lower()\n",
    "df['ni.gender.lower'].value_counts(dropna=False)"
   ]
  },
  {
   "cell_type": "code",
   "execution_count": 7,
   "metadata": {},
   "outputs": [
    {
     "data": {
      "text/plain": [
       "broker    1424\n",
       "phone      791\n",
       "online     192\n",
       "NaN          5\n",
       "Name: sales.channel.lower, dtype: int64"
      ]
     },
     "execution_count": 7,
     "metadata": {},
     "output_type": "execute_result"
    }
   ],
   "source": [
    "df['sales.channel.lower'] = df['sales.channel'].str.lower()\n",
    "df['sales.channel.lower'].value_counts(dropna=False)"
   ]
  },
  {
   "cell_type": "code",
   "execution_count": 8,
   "metadata": {},
   "outputs": [
    {
     "data": {
      "text/plain": [
       "c      1051\n",
       "a       782\n",
       "b       577\n",
       "NaN       2\n",
       "Name: coverage.type.lower, dtype: int64"
      ]
     },
     "execution_count": 8,
     "metadata": {},
     "output_type": "execute_result"
    }
   ],
   "source": [
    "df['coverage.type.lower'] = df['coverage.type'].str.lower()\n",
    "df['coverage.type.lower'].value_counts(dropna=False)"
   ]
  },
  {
   "cell_type": "code",
   "execution_count": 9,
   "metadata": {},
   "outputs": [
    {
     "data": {
      "text/plain": [
       "house       1297\n",
       "condo        560\n",
       "tenant       467\n",
       "landlord      87\n",
       "NaN            1\n",
       "Name: dwelling.type.lower, dtype: int64"
      ]
     },
     "execution_count": 9,
     "metadata": {},
     "output_type": "execute_result"
    }
   ],
   "source": [
    "df['dwelling.type.lower'] = df['dwelling.type'].str.lower()\n",
    "df['dwelling.type.lower'].value_counts(dropna=False)"
   ]
  },
  {
   "cell_type": "code",
   "execution_count": 10,
   "metadata": {},
   "outputs": [
    {
     "data": {
      "text/plain": [
       "high      1477\n",
       "medium     528\n",
       "low        405\n",
       "NaN          2\n",
       "Name: credit.lower, dtype: int64"
      ]
     },
     "execution_count": 10,
     "metadata": {},
     "output_type": "execute_result"
    }
   ],
   "source": [
    "df['credit.lower'] = df['credit'].str.lower()\n",
    "df['credit.lower'].value_counts(dropna=False)"
   ]
  },
  {
   "cell_type": "code",
   "execution_count": 11,
   "metadata": {},
   "outputs": [
    {
     "data": {
      "text/html": [
       "<div>\n",
       "<style scoped>\n",
       "    .dataframe tbody tr th:only-of-type {\n",
       "        vertical-align: middle;\n",
       "    }\n",
       "\n",
       "    .dataframe tbody tr th {\n",
       "        vertical-align: top;\n",
       "    }\n",
       "\n",
       "    .dataframe thead th {\n",
       "        text-align: right;\n",
       "    }\n",
       "</style>\n",
       "<table border=\"1\" class=\"dataframe\">\n",
       "  <thead>\n",
       "    <tr style=\"text-align: right;\">\n",
       "      <th></th>\n",
       "      <th>id</th>\n",
       "      <th>tenure</th>\n",
       "      <th>claim.ind</th>\n",
       "      <th>n.adults</th>\n",
       "      <th>n.children</th>\n",
       "      <th>ni.gender</th>\n",
       "      <th>ni.marital.status</th>\n",
       "      <th>premium</th>\n",
       "      <th>sales.channel</th>\n",
       "      <th>coverage.type</th>\n",
       "      <th>dwelling.type</th>\n",
       "      <th>len.at.res</th>\n",
       "      <th>credit</th>\n",
       "      <th>ni.age</th>\n",
       "      <th>ni.gender.lower</th>\n",
       "      <th>sales.channel.lower</th>\n",
       "      <th>coverage.type.lower</th>\n",
       "      <th>dwelling.type.lower</th>\n",
       "      <th>credit.lower</th>\n",
       "    </tr>\n",
       "  </thead>\n",
       "  <tbody>\n",
       "    <tr>\n",
       "      <th>0</th>\n",
       "      <td>7583</td>\n",
       "      <td>5.0</td>\n",
       "      <td>0.0</td>\n",
       "      <td>1.0</td>\n",
       "      <td>3</td>\n",
       "      <td>F</td>\n",
       "      <td>1.0</td>\n",
       "      <td>913.623201</td>\n",
       "      <td>Broker</td>\n",
       "      <td>C</td>\n",
       "      <td>Tenant</td>\n",
       "      <td>18.0</td>\n",
       "      <td>medium</td>\n",
       "      <td>35.0</td>\n",
       "      <td>f</td>\n",
       "      <td>broker</td>\n",
       "      <td>c</td>\n",
       "      <td>tenant</td>\n",
       "      <td>medium</td>\n",
       "    </tr>\n",
       "    <tr>\n",
       "      <th>1</th>\n",
       "      <td>7584</td>\n",
       "      <td>15.0</td>\n",
       "      <td>1.0</td>\n",
       "      <td>1.0</td>\n",
       "      <td>4</td>\n",
       "      <td>F</td>\n",
       "      <td>1.0</td>\n",
       "      <td>1018.426114</td>\n",
       "      <td>Phone</td>\n",
       "      <td>A</td>\n",
       "      <td>House</td>\n",
       "      <td>15.0</td>\n",
       "      <td>medium</td>\n",
       "      <td>59.0</td>\n",
       "      <td>f</td>\n",
       "      <td>phone</td>\n",
       "      <td>a</td>\n",
       "      <td>house</td>\n",
       "      <td>medium</td>\n",
       "    </tr>\n",
       "    <tr>\n",
       "      <th>2</th>\n",
       "      <td>7585</td>\n",
       "      <td>1.0</td>\n",
       "      <td>1.0</td>\n",
       "      <td>3.0</td>\n",
       "      <td>2</td>\n",
       "      <td>M</td>\n",
       "      <td>1.0</td>\n",
       "      <td>928.418533</td>\n",
       "      <td>Broker</td>\n",
       "      <td>B</td>\n",
       "      <td>Condo</td>\n",
       "      <td>13.0</td>\n",
       "      <td>medium</td>\n",
       "      <td>27.0</td>\n",
       "      <td>m</td>\n",
       "      <td>broker</td>\n",
       "      <td>b</td>\n",
       "      <td>condo</td>\n",
       "      <td>medium</td>\n",
       "    </tr>\n",
       "    <tr>\n",
       "      <th>3</th>\n",
       "      <td>7586</td>\n",
       "      <td>12.0</td>\n",
       "      <td>0.0</td>\n",
       "      <td>4.0</td>\n",
       "      <td>0</td>\n",
       "      <td>M</td>\n",
       "      <td>0.0</td>\n",
       "      <td>877.649917</td>\n",
       "      <td>Broker</td>\n",
       "      <td>B</td>\n",
       "      <td>Condo</td>\n",
       "      <td>19.0</td>\n",
       "      <td>high</td>\n",
       "      <td>35.0</td>\n",
       "      <td>m</td>\n",
       "      <td>broker</td>\n",
       "      <td>b</td>\n",
       "      <td>condo</td>\n",
       "      <td>high</td>\n",
       "    </tr>\n",
       "    <tr>\n",
       "      <th>4</th>\n",
       "      <td>7587</td>\n",
       "      <td>11.0</td>\n",
       "      <td>0.0</td>\n",
       "      <td>1.0</td>\n",
       "      <td>9</td>\n",
       "      <td>F</td>\n",
       "      <td>1.0</td>\n",
       "      <td>947.281913</td>\n",
       "      <td>Broker</td>\n",
       "      <td>A</td>\n",
       "      <td>Condo</td>\n",
       "      <td>18.0</td>\n",
       "      <td>high</td>\n",
       "      <td>34.0</td>\n",
       "      <td>f</td>\n",
       "      <td>broker</td>\n",
       "      <td>a</td>\n",
       "      <td>condo</td>\n",
       "      <td>high</td>\n",
       "    </tr>\n",
       "  </tbody>\n",
       "</table>\n",
       "</div>"
      ],
      "text/plain": [
       "     id  tenure  claim.ind  n.adults  n.children ni.gender  ni.marital.status  \\\n",
       "0  7583     5.0        0.0       1.0           3         F                1.0   \n",
       "1  7584    15.0        1.0       1.0           4         F                1.0   \n",
       "2  7585     1.0        1.0       3.0           2         M                1.0   \n",
       "3  7586    12.0        0.0       4.0           0         M                0.0   \n",
       "4  7587    11.0        0.0       1.0           9         F                1.0   \n",
       "\n",
       "       premium sales.channel coverage.type dwelling.type  len.at.res  credit  \\\n",
       "0   913.623201        Broker             C        Tenant        18.0  medium   \n",
       "1  1018.426114         Phone             A         House        15.0  medium   \n",
       "2   928.418533        Broker             B         Condo        13.0  medium   \n",
       "3   877.649917        Broker             B         Condo        19.0    high   \n",
       "4   947.281913        Broker             A         Condo        18.0    high   \n",
       "\n",
       "   ni.age ni.gender.lower sales.channel.lower coverage.type.lower  \\\n",
       "0    35.0               f              broker                   c   \n",
       "1    59.0               f               phone                   a   \n",
       "2    27.0               m              broker                   b   \n",
       "3    35.0               m              broker                   b   \n",
       "4    34.0               f              broker                   a   \n",
       "\n",
       "  dwelling.type.lower credit.lower  \n",
       "0              tenant       medium  \n",
       "1               house       medium  \n",
       "2               condo       medium  \n",
       "3               condo         high  \n",
       "4               condo         high  "
      ]
     },
     "execution_count": 11,
     "metadata": {},
     "output_type": "execute_result"
    }
   ],
   "source": [
    "df.head()"
   ]
  },
  {
   "cell_type": "code",
   "execution_count": 12,
   "metadata": {},
   "outputs": [
    {
     "data": {
      "text/plain": [
       "(2412, 19)"
      ]
     },
     "execution_count": 12,
     "metadata": {},
     "output_type": "execute_result"
    }
   ],
   "source": [
    "df.shape"
   ]
  },
  {
   "cell_type": "code",
   "execution_count": null,
   "metadata": {},
   "outputs": [],
   "source": [
    "cols_to_drop = ['ni.gender', 'sales.channel', 'coverage.type', 'dwelling.type', 'credit']\n",
    "df_new = df.drop(cols_to_drop, axis=1)\n",
    "df_new.to_csv('data/cleaner.csv', index=False)"
   ]
  },
  {
   "cell_type": "code",
   "execution_count": null,
   "metadata": {},
   "outputs": [],
   "source": []
  },
  {
   "cell_type": "code",
   "execution_count": null,
   "metadata": {},
   "outputs": [],
   "source": []
  },
  {
   "cell_type": "code",
   "execution_count": null,
   "metadata": {},
   "outputs": [],
   "source": []
  },
  {
   "cell_type": "code",
   "execution_count": null,
   "metadata": {},
   "outputs": [],
   "source": []
  },
  {
   "cell_type": "code",
   "execution_count": null,
   "metadata": {},
   "outputs": [],
   "source": []
  },
  {
   "cell_type": "code",
   "execution_count": null,
   "metadata": {},
   "outputs": [],
   "source": []
  }
 ],
 "metadata": {
  "interpreter": {
   "hash": "aee8b7b246df8f9039afb4144a1f6fd8d2ca17a180786b69acc140d282b71a49"
  },
  "kernelspec": {
   "display_name": "Python 3.10.4 64-bit",
   "language": "python",
   "name": "python3"
  },
  "language_info": {
   "codemirror_mode": {
    "name": "ipython",
    "version": 3
   },
   "file_extension": ".py",
   "mimetype": "text/x-python",
   "name": "python",
   "nbconvert_exporter": "python",
   "pygments_lexer": "ipython3",
   "version": "3.10.4"
  },
  "orig_nbformat": 4
 },
 "nbformat": 4,
 "nbformat_minor": 2
}
