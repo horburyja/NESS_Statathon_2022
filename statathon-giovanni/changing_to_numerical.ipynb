{
 "cells": [
  {
   "cell_type": "code",
   "execution_count": 2,
   "metadata": {},
   "outputs": [],
   "source": [
    "import pandas as pd\n",
    "from sklearn.model_selection import train_test_split"
   ]
  },
  {
   "cell_type": "code",
   "execution_count": 3,
   "metadata": {},
   "outputs": [
    {
     "data": {
      "text/html": [
       "<div>\n",
       "<style scoped>\n",
       "    .dataframe tbody tr th:only-of-type {\n",
       "        vertical-align: middle;\n",
       "    }\n",
       "\n",
       "    .dataframe tbody tr th {\n",
       "        vertical-align: top;\n",
       "    }\n",
       "\n",
       "    .dataframe thead th {\n",
       "        text-align: right;\n",
       "    }\n",
       "</style>\n",
       "<table border=\"1\" class=\"dataframe\">\n",
       "  <thead>\n",
       "    <tr style=\"text-align: right;\">\n",
       "      <th></th>\n",
       "      <th>id</th>\n",
       "      <th>cancel</th>\n",
       "      <th>ni.age</th>\n",
       "      <th>len.at.res</th>\n",
       "      <th>premium</th>\n",
       "      <th>ni.marital.status</th>\n",
       "      <th>n.adults</th>\n",
       "      <th>n.children</th>\n",
       "      <th>tenure</th>\n",
       "      <th>claim.ind</th>\n",
       "      <th>ni.gender.lower</th>\n",
       "      <th>sales.channel.lower</th>\n",
       "      <th>coverage.type.lower</th>\n",
       "      <th>dwelling.type.lower</th>\n",
       "      <th>credit.lower</th>\n",
       "    </tr>\n",
       "  </thead>\n",
       "  <tbody>\n",
       "    <tr>\n",
       "      <th>0</th>\n",
       "      <td>1</td>\n",
       "      <td>0</td>\n",
       "      <td>37.0</td>\n",
       "      <td>18.000000</td>\n",
       "      <td>950.507336</td>\n",
       "      <td>0.0</td>\n",
       "      <td>2.0</td>\n",
       "      <td>0.0</td>\n",
       "      <td>15.0</td>\n",
       "      <td>0.0</td>\n",
       "      <td>f</td>\n",
       "      <td>broker</td>\n",
       "      <td>c</td>\n",
       "      <td>tenant</td>\n",
       "      <td>high</td>\n",
       "    </tr>\n",
       "    <tr>\n",
       "      <th>1</th>\n",
       "      <td>2</td>\n",
       "      <td>0</td>\n",
       "      <td>40.0</td>\n",
       "      <td>17.000000</td>\n",
       "      <td>909.346046</td>\n",
       "      <td>1.0</td>\n",
       "      <td>5.0</td>\n",
       "      <td>0.0</td>\n",
       "      <td>15.0</td>\n",
       "      <td>0.0</td>\n",
       "      <td>f</td>\n",
       "      <td>broker</td>\n",
       "      <td>a</td>\n",
       "      <td>condo</td>\n",
       "      <td>medium</td>\n",
       "    </tr>\n",
       "    <tr>\n",
       "      <th>2</th>\n",
       "      <td>3</td>\n",
       "      <td>0</td>\n",
       "      <td>45.0</td>\n",
       "      <td>14.000000</td>\n",
       "      <td>897.084502</td>\n",
       "      <td>0.0</td>\n",
       "      <td>1.0</td>\n",
       "      <td>0.0</td>\n",
       "      <td>14.0</td>\n",
       "      <td>0.0</td>\n",
       "      <td>m</td>\n",
       "      <td>phone</td>\n",
       "      <td>a</td>\n",
       "      <td>house</td>\n",
       "      <td>high</td>\n",
       "    </tr>\n",
       "    <tr>\n",
       "      <th>3</th>\n",
       "      <td>4</td>\n",
       "      <td>0</td>\n",
       "      <td>45.0</td>\n",
       "      <td>24.366136</td>\n",
       "      <td>979.039007</td>\n",
       "      <td>0.0</td>\n",
       "      <td>5.0</td>\n",
       "      <td>0.0</td>\n",
       "      <td>22.0</td>\n",
       "      <td>1.0</td>\n",
       "      <td>m</td>\n",
       "      <td>phone</td>\n",
       "      <td>a</td>\n",
       "      <td>house</td>\n",
       "      <td>high</td>\n",
       "    </tr>\n",
       "    <tr>\n",
       "      <th>4</th>\n",
       "      <td>5</td>\n",
       "      <td>0</td>\n",
       "      <td>36.0</td>\n",
       "      <td>16.000000</td>\n",
       "      <td>932.379027</td>\n",
       "      <td>1.0</td>\n",
       "      <td>2.0</td>\n",
       "      <td>4.0</td>\n",
       "      <td>4.0</td>\n",
       "      <td>0.0</td>\n",
       "      <td>m</td>\n",
       "      <td>broker</td>\n",
       "      <td>c</td>\n",
       "      <td>house</td>\n",
       "      <td>high</td>\n",
       "    </tr>\n",
       "    <tr>\n",
       "      <th>...</th>\n",
       "      <td>...</td>\n",
       "      <td>...</td>\n",
       "      <td>...</td>\n",
       "      <td>...</td>\n",
       "      <td>...</td>\n",
       "      <td>...</td>\n",
       "      <td>...</td>\n",
       "      <td>...</td>\n",
       "      <td>...</td>\n",
       "      <td>...</td>\n",
       "      <td>...</td>\n",
       "      <td>...</td>\n",
       "      <td>...</td>\n",
       "      <td>...</td>\n",
       "      <td>...</td>\n",
       "    </tr>\n",
       "    <tr>\n",
       "      <th>1010097</th>\n",
       "      <td>1048571</td>\n",
       "      <td>0</td>\n",
       "      <td>74.0</td>\n",
       "      <td>20.000000</td>\n",
       "      <td>926.857762</td>\n",
       "      <td>0.0</td>\n",
       "      <td>3.0</td>\n",
       "      <td>0.0</td>\n",
       "      <td>19.0</td>\n",
       "      <td>0.0</td>\n",
       "      <td>f</td>\n",
       "      <td>online</td>\n",
       "      <td>a</td>\n",
       "      <td>house</td>\n",
       "      <td>high</td>\n",
       "    </tr>\n",
       "    <tr>\n",
       "      <th>1010098</th>\n",
       "      <td>1048572</td>\n",
       "      <td>0</td>\n",
       "      <td>44.0</td>\n",
       "      <td>14.000000</td>\n",
       "      <td>968.546580</td>\n",
       "      <td>0.0</td>\n",
       "      <td>4.0</td>\n",
       "      <td>0.0</td>\n",
       "      <td>14.0</td>\n",
       "      <td>0.0</td>\n",
       "      <td>m</td>\n",
       "      <td>broker</td>\n",
       "      <td>a</td>\n",
       "      <td>condo</td>\n",
       "      <td>high</td>\n",
       "    </tr>\n",
       "    <tr>\n",
       "      <th>1010099</th>\n",
       "      <td>1048573</td>\n",
       "      <td>0</td>\n",
       "      <td>63.0</td>\n",
       "      <td>18.000000</td>\n",
       "      <td>838.446947</td>\n",
       "      <td>1.0</td>\n",
       "      <td>4.0</td>\n",
       "      <td>1.0</td>\n",
       "      <td>12.0</td>\n",
       "      <td>0.0</td>\n",
       "      <td>f</td>\n",
       "      <td>broker</td>\n",
       "      <td>a</td>\n",
       "      <td>house</td>\n",
       "      <td>high</td>\n",
       "    </tr>\n",
       "    <tr>\n",
       "      <th>1010100</th>\n",
       "      <td>1048574</td>\n",
       "      <td>0</td>\n",
       "      <td>22.0</td>\n",
       "      <td>11.000000</td>\n",
       "      <td>1026.261620</td>\n",
       "      <td>1.0</td>\n",
       "      <td>1.0</td>\n",
       "      <td>1.0</td>\n",
       "      <td>0.0</td>\n",
       "      <td>1.0</td>\n",
       "      <td>m</td>\n",
       "      <td>online</td>\n",
       "      <td>c</td>\n",
       "      <td>house</td>\n",
       "      <td>high</td>\n",
       "    </tr>\n",
       "    <tr>\n",
       "      <th>1010101</th>\n",
       "      <td>1048575</td>\n",
       "      <td>0</td>\n",
       "      <td>59.0</td>\n",
       "      <td>13.000000</td>\n",
       "      <td>907.387213</td>\n",
       "      <td>1.0</td>\n",
       "      <td>1.0</td>\n",
       "      <td>3.0</td>\n",
       "      <td>19.0</td>\n",
       "      <td>0.0</td>\n",
       "      <td>m</td>\n",
       "      <td>broker</td>\n",
       "      <td>a</td>\n",
       "      <td>house</td>\n",
       "      <td>high</td>\n",
       "    </tr>\n",
       "  </tbody>\n",
       "</table>\n",
       "<p>1010102 rows × 15 columns</p>\n",
       "</div>"
      ],
      "text/plain": [
       "              id  cancel  ni.age  len.at.res      premium  ni.marital.status  \\\n",
       "0              1       0    37.0   18.000000   950.507336                0.0   \n",
       "1              2       0    40.0   17.000000   909.346046                1.0   \n",
       "2              3       0    45.0   14.000000   897.084502                0.0   \n",
       "3              4       0    45.0   24.366136   979.039007                0.0   \n",
       "4              5       0    36.0   16.000000   932.379027                1.0   \n",
       "...          ...     ...     ...         ...          ...                ...   \n",
       "1010097  1048571       0    74.0   20.000000   926.857762                0.0   \n",
       "1010098  1048572       0    44.0   14.000000   968.546580                0.0   \n",
       "1010099  1048573       0    63.0   18.000000   838.446947                1.0   \n",
       "1010100  1048574       0    22.0   11.000000  1026.261620                1.0   \n",
       "1010101  1048575       0    59.0   13.000000   907.387213                1.0   \n",
       "\n",
       "         n.adults  n.children  tenure  claim.ind ni.gender.lower  \\\n",
       "0             2.0         0.0    15.0        0.0               f   \n",
       "1             5.0         0.0    15.0        0.0               f   \n",
       "2             1.0         0.0    14.0        0.0               m   \n",
       "3             5.0         0.0    22.0        1.0               m   \n",
       "4             2.0         4.0     4.0        0.0               m   \n",
       "...           ...         ...     ...        ...             ...   \n",
       "1010097       3.0         0.0    19.0        0.0               f   \n",
       "1010098       4.0         0.0    14.0        0.0               m   \n",
       "1010099       4.0         1.0    12.0        0.0               f   \n",
       "1010100       1.0         1.0     0.0        1.0               m   \n",
       "1010101       1.0         3.0    19.0        0.0               m   \n",
       "\n",
       "        sales.channel.lower coverage.type.lower dwelling.type.lower  \\\n",
       "0                    broker                   c              tenant   \n",
       "1                    broker                   a               condo   \n",
       "2                     phone                   a               house   \n",
       "3                     phone                   a               house   \n",
       "4                    broker                   c               house   \n",
       "...                     ...                 ...                 ...   \n",
       "1010097              online                   a               house   \n",
       "1010098              broker                   a               condo   \n",
       "1010099              broker                   a               house   \n",
       "1010100              online                   c               house   \n",
       "1010101              broker                   a               house   \n",
       "\n",
       "        credit.lower  \n",
       "0               high  \n",
       "1             medium  \n",
       "2               high  \n",
       "3               high  \n",
       "4               high  \n",
       "...              ...  \n",
       "1010097         high  \n",
       "1010098         high  \n",
       "1010099         high  \n",
       "1010100         high  \n",
       "1010101         high  \n",
       "\n",
       "[1010102 rows x 15 columns]"
      ]
     },
     "execution_count": 3,
     "metadata": {},
     "output_type": "execute_result"
    }
   ],
   "source": [
    "data = pd.read_csv('data/train6.csv')\n",
    "data\n"
   ]
  },
  {
   "cell_type": "code",
   "execution_count": 4,
   "metadata": {},
   "outputs": [
    {
     "data": {
      "text/plain": [
       "array([0, 2, 1])"
      ]
     },
     "execution_count": 4,
     "metadata": {},
     "output_type": "execute_result"
    }
   ],
   "source": [
    "data['cancel'].unique()\n"
   ]
  },
  {
   "cell_type": "code",
   "execution_count": 6,
   "metadata": {},
   "outputs": [
    {
     "data": {
      "text/plain": [
       "array(['f', 'm'], dtype=object)"
      ]
     },
     "execution_count": 6,
     "metadata": {},
     "output_type": "execute_result"
    }
   ],
   "source": [
    "data['ni.gender.lower'].unique()"
   ]
  },
  {
   "cell_type": "code",
   "execution_count": 10,
   "metadata": {},
   "outputs": [
    {
     "data": {
      "text/plain": [
       "array([0, 1])"
      ]
     },
     "execution_count": 10,
     "metadata": {},
     "output_type": "execute_result"
    }
   ],
   "source": [
    "data['ni.gender.lower'] = data['ni.gender.lower'].replace({'f':0, 'm':1})\n",
    "data['ni.gender.lower'].unique()"
   ]
  },
  {
   "cell_type": "code",
   "execution_count": 12,
   "metadata": {},
   "outputs": [
    {
     "data": {
      "text/plain": [
       "array(['broker', 'phone', 'online'], dtype=object)"
      ]
     },
     "execution_count": 12,
     "metadata": {},
     "output_type": "execute_result"
    }
   ],
   "source": [
    "data['sales.channel.lower'].unique()"
   ]
  },
  {
   "cell_type": "code",
   "execution_count": 14,
   "metadata": {},
   "outputs": [
    {
     "data": {
      "text/plain": [
       "array([0, 1, 2])"
      ]
     },
     "execution_count": 14,
     "metadata": {},
     "output_type": "execute_result"
    }
   ],
   "source": [
    "data['sales.channel.lower'] = data['sales.channel.lower'].replace({'broker':0, 'phone':1, 'online':2})\n",
    "data['sales.channel.lower'].unique()\n"
   ]
  },
  {
   "cell_type": "markdown",
   "metadata": {},
   "source": []
  },
  {
   "cell_type": "code",
   "execution_count": 15,
   "metadata": {},
   "outputs": [
    {
     "data": {
      "text/plain": [
       "array(['c', 'a', 'b'], dtype=object)"
      ]
     },
     "execution_count": 15,
     "metadata": {},
     "output_type": "execute_result"
    }
   ],
   "source": [
    "data['coverage.type.lower'].unique()"
   ]
  },
  {
   "cell_type": "code",
   "execution_count": 17,
   "metadata": {},
   "outputs": [
    {
     "data": {
      "text/plain": [
       "array([2, 0, 1])"
      ]
     },
     "execution_count": 17,
     "metadata": {},
     "output_type": "execute_result"
    }
   ],
   "source": [
    "data['coverage.type.lower'] = data['coverage.type.lower'].replace({'c':2, 'a':0, 'b':1})\n",
    "data['coverage.type.lower'].unique()"
   ]
  },
  {
   "cell_type": "code",
   "execution_count": 18,
   "metadata": {},
   "outputs": [
    {
     "data": {
      "text/plain": [
       "array(['tenant', 'condo', 'house'], dtype=object)"
      ]
     },
     "execution_count": 18,
     "metadata": {},
     "output_type": "execute_result"
    }
   ],
   "source": [
    "data['dwelling.type.lower'].unique()"
   ]
  },
  {
   "cell_type": "code",
   "execution_count": 20,
   "metadata": {},
   "outputs": [
    {
     "data": {
      "text/plain": [
       "array([0, 1, 2])"
      ]
     },
     "execution_count": 20,
     "metadata": {},
     "output_type": "execute_result"
    }
   ],
   "source": [
    "data['dwelling.type.lower'] = data['dwelling.type.lower'].replace({'tenant':0, 'condo':1, 'house':2})\n",
    "data['dwelling.type.lower'].unique()"
   ]
  },
  {
   "cell_type": "code",
   "execution_count": 21,
   "metadata": {},
   "outputs": [
    {
     "data": {
      "text/plain": [
       "array(['high', 'medium', 'low'], dtype=object)"
      ]
     },
     "execution_count": 21,
     "metadata": {},
     "output_type": "execute_result"
    }
   ],
   "source": [
    "data['credit.lower'].unique()"
   ]
  },
  {
   "cell_type": "code",
   "execution_count": 23,
   "metadata": {},
   "outputs": [
    {
     "data": {
      "text/plain": [
       "array([0, 1, 2])"
      ]
     },
     "execution_count": 23,
     "metadata": {},
     "output_type": "execute_result"
    }
   ],
   "source": [
    "data['credit.lower'] = data['credit.lower'].replace({'high':0, 'medium':1, 'low':2})\n",
    "data['credit.lower'].unique()"
   ]
  },
  {
   "cell_type": "markdown",
   "metadata": {},
   "source": [
    "Coding Categorical Variables:\n",
    "\n",
    "ni.gender.lower\n",
    "Female = 0\n",
    "Male = 1\n",
    "\n",
    "sales.channel.lower\n",
    "Broker = 0\n",
    "Phone = 1\n",
    "Online = 2\n",
    "\n",
    "coverage.type.lower\n",
    "c = 2\n",
    "a = 0\n",
    "b = 1\n",
    "\n",
    "dwelling.type.lower\n",
    "tenant = 0\n",
    "condo = 1\n",
    "house = 2\n",
    "\n",
    "credit.lower\n",
    "high = 0\n",
    "medium = 1\n",
    "low = 2"
   ]
  }
 ],
 "metadata": {
  "interpreter": {
   "hash": "aee8b7b246df8f9039afb4144a1f6fd8d2ca17a180786b69acc140d282b71a49"
  },
  "kernelspec": {
   "display_name": "Python 3.10.4 64-bit",
   "language": "python",
   "name": "python3"
  },
  "language_info": {
   "codemirror_mode": {
    "name": "ipython",
    "version": 3
   },
   "file_extension": ".py",
   "mimetype": "text/x-python",
   "name": "python",
   "nbconvert_exporter": "python",
   "pygments_lexer": "ipython3",
   "version": "3.10.4"
  },
  "orig_nbformat": 4
 },
 "nbformat": 4,
 "nbformat_minor": 2
}
