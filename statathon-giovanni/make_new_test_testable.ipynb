{
 "cells": [
  {
   "cell_type": "code",
   "execution_count": 1,
   "metadata": {},
   "outputs": [],
   "source": [
    "import pandas as pd"
   ]
  },
  {
   "cell_type": "code",
   "execution_count": 2,
   "metadata": {},
   "outputs": [
    {
     "data": {
      "text/html": [
       "<div>\n",
       "<style scoped>\n",
       "    .dataframe tbody tr th:only-of-type {\n",
       "        vertical-align: middle;\n",
       "    }\n",
       "\n",
       "    .dataframe tbody tr th {\n",
       "        vertical-align: top;\n",
       "    }\n",
       "\n",
       "    .dataframe thead th {\n",
       "        text-align: right;\n",
       "    }\n",
       "</style>\n",
       "<table border=\"1\" class=\"dataframe\">\n",
       "  <thead>\n",
       "    <tr style=\"text-align: right;\">\n",
       "      <th></th>\n",
       "      <th>id</th>\n",
       "      <th>tenure</th>\n",
       "      <th>claim.ind</th>\n",
       "      <th>n.adults</th>\n",
       "      <th>n.children</th>\n",
       "      <th>ni.gender</th>\n",
       "      <th>ni.marital.status</th>\n",
       "      <th>premium</th>\n",
       "      <th>sales.channel</th>\n",
       "      <th>coverage.type</th>\n",
       "      <th>dwelling.type</th>\n",
       "      <th>len.at.res</th>\n",
       "      <th>credit</th>\n",
       "      <th>house.color</th>\n",
       "      <th>ni.age</th>\n",
       "      <th>year</th>\n",
       "      <th>zip.code</th>\n",
       "    </tr>\n",
       "  </thead>\n",
       "  <tbody>\n",
       "    <tr>\n",
       "      <th>0</th>\n",
       "      <td>7583</td>\n",
       "      <td>5.0</td>\n",
       "      <td>0.0</td>\n",
       "      <td>1.0</td>\n",
       "      <td>3</td>\n",
       "      <td>F</td>\n",
       "      <td>1.0</td>\n",
       "      <td>913.623201</td>\n",
       "      <td>Broker</td>\n",
       "      <td>C</td>\n",
       "      <td>Tenant</td>\n",
       "      <td>18.0</td>\n",
       "      <td>medium</td>\n",
       "      <td>blue</td>\n",
       "      <td>35.0</td>\n",
       "      <td>2017</td>\n",
       "      <td>85066.0</td>\n",
       "    </tr>\n",
       "    <tr>\n",
       "      <th>1</th>\n",
       "      <td>7584</td>\n",
       "      <td>15.0</td>\n",
       "      <td>1.0</td>\n",
       "      <td>1.0</td>\n",
       "      <td>4</td>\n",
       "      <td>F</td>\n",
       "      <td>1.0</td>\n",
       "      <td>1018.426114</td>\n",
       "      <td>Phone</td>\n",
       "      <td>A</td>\n",
       "      <td>House</td>\n",
       "      <td>15.0</td>\n",
       "      <td>medium</td>\n",
       "      <td>white</td>\n",
       "      <td>59.0</td>\n",
       "      <td>2017</td>\n",
       "      <td>98013.0</td>\n",
       "    </tr>\n",
       "    <tr>\n",
       "      <th>2</th>\n",
       "      <td>7585</td>\n",
       "      <td>1.0</td>\n",
       "      <td>1.0</td>\n",
       "      <td>3.0</td>\n",
       "      <td>2</td>\n",
       "      <td>M</td>\n",
       "      <td>1.0</td>\n",
       "      <td>928.418533</td>\n",
       "      <td>Broker</td>\n",
       "      <td>B</td>\n",
       "      <td>Condo</td>\n",
       "      <td>13.0</td>\n",
       "      <td>medium</td>\n",
       "      <td>blue</td>\n",
       "      <td>27.0</td>\n",
       "      <td>2017</td>\n",
       "      <td>15049.0</td>\n",
       "    </tr>\n",
       "    <tr>\n",
       "      <th>3</th>\n",
       "      <td>7586</td>\n",
       "      <td>12.0</td>\n",
       "      <td>0.0</td>\n",
       "      <td>4.0</td>\n",
       "      <td>0</td>\n",
       "      <td>M</td>\n",
       "      <td>0.0</td>\n",
       "      <td>877.649917</td>\n",
       "      <td>Broker</td>\n",
       "      <td>B</td>\n",
       "      <td>Condo</td>\n",
       "      <td>19.0</td>\n",
       "      <td>high</td>\n",
       "      <td>blue</td>\n",
       "      <td>35.0</td>\n",
       "      <td>2017</td>\n",
       "      <td>15026.0</td>\n",
       "    </tr>\n",
       "    <tr>\n",
       "      <th>4</th>\n",
       "      <td>7587</td>\n",
       "      <td>11.0</td>\n",
       "      <td>0.0</td>\n",
       "      <td>1.0</td>\n",
       "      <td>9</td>\n",
       "      <td>F</td>\n",
       "      <td>1.0</td>\n",
       "      <td>947.281913</td>\n",
       "      <td>Broker</td>\n",
       "      <td>A</td>\n",
       "      <td>Condo</td>\n",
       "      <td>18.0</td>\n",
       "      <td>high</td>\n",
       "      <td>red</td>\n",
       "      <td>34.0</td>\n",
       "      <td>2017</td>\n",
       "      <td>15025.0</td>\n",
       "    </tr>\n",
       "  </tbody>\n",
       "</table>\n",
       "</div>"
      ],
      "text/plain": [
       "     id  tenure  claim.ind  n.adults  n.children ni.gender  ni.marital.status  \\\n",
       "0  7583     5.0        0.0       1.0           3         F                1.0   \n",
       "1  7584    15.0        1.0       1.0           4         F                1.0   \n",
       "2  7585     1.0        1.0       3.0           2         M                1.0   \n",
       "3  7586    12.0        0.0       4.0           0         M                0.0   \n",
       "4  7587    11.0        0.0       1.0           9         F                1.0   \n",
       "\n",
       "       premium sales.channel coverage.type dwelling.type  len.at.res  credit  \\\n",
       "0   913.623201        Broker             C        Tenant        18.0  medium   \n",
       "1  1018.426114         Phone             A         House        15.0  medium   \n",
       "2   928.418533        Broker             B         Condo        13.0  medium   \n",
       "3   877.649917        Broker             B         Condo        19.0    high   \n",
       "4   947.281913        Broker             A         Condo        18.0    high   \n",
       "\n",
       "  house.color  ni.age  year  zip.code  \n",
       "0        blue    35.0  2017   85066.0  \n",
       "1       white    59.0  2017   98013.0  \n",
       "2        blue    27.0  2017   15049.0  \n",
       "3        blue    35.0  2017   15026.0  \n",
       "4         red    34.0  2017   15025.0  "
      ]
     },
     "execution_count": 2,
     "metadata": {},
     "output_type": "execute_result"
    }
   ],
   "source": [
    "df = pd.read_csv('data/test.csv')\n",
    "df.head()\n"
   ]
  },
  {
   "cell_type": "code",
   "execution_count": 3,
   "metadata": {},
   "outputs": [],
   "source": [
    "cols_to_drop = ['house.color', 'year', 'zip.code']\n",
    "df = df.drop(cols_to_drop, axis=1)"
   ]
  },
  {
   "cell_type": "code",
   "execution_count": 4,
   "metadata": {},
   "outputs": [
    {
     "data": {
      "text/html": [
       "<div>\n",
       "<style scoped>\n",
       "    .dataframe tbody tr th:only-of-type {\n",
       "        vertical-align: middle;\n",
       "    }\n",
       "\n",
       "    .dataframe tbody tr th {\n",
       "        vertical-align: top;\n",
       "    }\n",
       "\n",
       "    .dataframe thead th {\n",
       "        text-align: right;\n",
       "    }\n",
       "</style>\n",
       "<table border=\"1\" class=\"dataframe\">\n",
       "  <thead>\n",
       "    <tr style=\"text-align: right;\">\n",
       "      <th></th>\n",
       "      <th>id</th>\n",
       "      <th>tenure</th>\n",
       "      <th>claim.ind</th>\n",
       "      <th>n.adults</th>\n",
       "      <th>n.children</th>\n",
       "      <th>ni.gender</th>\n",
       "      <th>ni.marital.status</th>\n",
       "      <th>premium</th>\n",
       "      <th>sales.channel</th>\n",
       "      <th>coverage.type</th>\n",
       "      <th>dwelling.type</th>\n",
       "      <th>len.at.res</th>\n",
       "      <th>credit</th>\n",
       "      <th>ni.age</th>\n",
       "    </tr>\n",
       "  </thead>\n",
       "  <tbody>\n",
       "    <tr>\n",
       "      <th>0</th>\n",
       "      <td>7583</td>\n",
       "      <td>5.0</td>\n",
       "      <td>0.0</td>\n",
       "      <td>1.0</td>\n",
       "      <td>3</td>\n",
       "      <td>F</td>\n",
       "      <td>1.0</td>\n",
       "      <td>913.623201</td>\n",
       "      <td>Broker</td>\n",
       "      <td>C</td>\n",
       "      <td>Tenant</td>\n",
       "      <td>18.0</td>\n",
       "      <td>medium</td>\n",
       "      <td>35.0</td>\n",
       "    </tr>\n",
       "    <tr>\n",
       "      <th>1</th>\n",
       "      <td>7584</td>\n",
       "      <td>15.0</td>\n",
       "      <td>1.0</td>\n",
       "      <td>1.0</td>\n",
       "      <td>4</td>\n",
       "      <td>F</td>\n",
       "      <td>1.0</td>\n",
       "      <td>1018.426114</td>\n",
       "      <td>Phone</td>\n",
       "      <td>A</td>\n",
       "      <td>House</td>\n",
       "      <td>15.0</td>\n",
       "      <td>medium</td>\n",
       "      <td>59.0</td>\n",
       "    </tr>\n",
       "    <tr>\n",
       "      <th>2</th>\n",
       "      <td>7585</td>\n",
       "      <td>1.0</td>\n",
       "      <td>1.0</td>\n",
       "      <td>3.0</td>\n",
       "      <td>2</td>\n",
       "      <td>M</td>\n",
       "      <td>1.0</td>\n",
       "      <td>928.418533</td>\n",
       "      <td>Broker</td>\n",
       "      <td>B</td>\n",
       "      <td>Condo</td>\n",
       "      <td>13.0</td>\n",
       "      <td>medium</td>\n",
       "      <td>27.0</td>\n",
       "    </tr>\n",
       "    <tr>\n",
       "      <th>3</th>\n",
       "      <td>7586</td>\n",
       "      <td>12.0</td>\n",
       "      <td>0.0</td>\n",
       "      <td>4.0</td>\n",
       "      <td>0</td>\n",
       "      <td>M</td>\n",
       "      <td>0.0</td>\n",
       "      <td>877.649917</td>\n",
       "      <td>Broker</td>\n",
       "      <td>B</td>\n",
       "      <td>Condo</td>\n",
       "      <td>19.0</td>\n",
       "      <td>high</td>\n",
       "      <td>35.0</td>\n",
       "    </tr>\n",
       "    <tr>\n",
       "      <th>4</th>\n",
       "      <td>7587</td>\n",
       "      <td>11.0</td>\n",
       "      <td>0.0</td>\n",
       "      <td>1.0</td>\n",
       "      <td>9</td>\n",
       "      <td>F</td>\n",
       "      <td>1.0</td>\n",
       "      <td>947.281913</td>\n",
       "      <td>Broker</td>\n",
       "      <td>A</td>\n",
       "      <td>Condo</td>\n",
       "      <td>18.0</td>\n",
       "      <td>high</td>\n",
       "      <td>34.0</td>\n",
       "    </tr>\n",
       "  </tbody>\n",
       "</table>\n",
       "</div>"
      ],
      "text/plain": [
       "     id  tenure  claim.ind  n.adults  n.children ni.gender  ni.marital.status  \\\n",
       "0  7583     5.0        0.0       1.0           3         F                1.0   \n",
       "1  7584    15.0        1.0       1.0           4         F                1.0   \n",
       "2  7585     1.0        1.0       3.0           2         M                1.0   \n",
       "3  7586    12.0        0.0       4.0           0         M                0.0   \n",
       "4  7587    11.0        0.0       1.0           9         F                1.0   \n",
       "\n",
       "       premium sales.channel coverage.type dwelling.type  len.at.res  credit  \\\n",
       "0   913.623201        Broker             C        Tenant        18.0  medium   \n",
       "1  1018.426114         Phone             A         House        15.0  medium   \n",
       "2   928.418533        Broker             B         Condo        13.0  medium   \n",
       "3   877.649917        Broker             B         Condo        19.0    high   \n",
       "4   947.281913        Broker             A         Condo        18.0    high   \n",
       "\n",
       "   ni.age  \n",
       "0    35.0  \n",
       "1    59.0  \n",
       "2    27.0  \n",
       "3    35.0  \n",
       "4    34.0  "
      ]
     },
     "execution_count": 4,
     "metadata": {},
     "output_type": "execute_result"
    }
   ],
   "source": [
    "df.head()"
   ]
  },
  {
   "cell_type": "code",
   "execution_count": 5,
   "metadata": {},
   "outputs": [],
   "source": [
    "#data['ni.gender.lower'] = data['ni.gender'].str.lower()\n",
    "#data['sales.channel.lower'] = data['sales.channel'].str.lower()\n",
    "#data['coverage.type.lower'] = data['coverage.type'].str.lower()\n",
    "#data['dwelling.type.lower'] = data['dwelling.type'].str.lower()\n",
    "#data['credit.lower'] = data['credit'].str.lower()"
   ]
  },
  {
   "cell_type": "code",
   "execution_count": 7,
   "metadata": {},
   "outputs": [],
   "source": [
    "#cols_to_drop = ['ni.gender', 'sales.channel', 'coverage.type', 'dwelling.type', 'credit']\n",
    "#data_new = data.drop(cols_to_drop, axis=1)"
   ]
  },
  {
   "cell_type": "code",
   "execution_count": 8,
   "metadata": {},
   "outputs": [
    {
     "data": {
      "text/html": [
       "<div>\n",
       "<style scoped>\n",
       "    .dataframe tbody tr th:only-of-type {\n",
       "        vertical-align: middle;\n",
       "    }\n",
       "\n",
       "    .dataframe tbody tr th {\n",
       "        vertical-align: top;\n",
       "    }\n",
       "\n",
       "    .dataframe thead th {\n",
       "        text-align: right;\n",
       "    }\n",
       "</style>\n",
       "<table border=\"1\" class=\"dataframe\">\n",
       "  <thead>\n",
       "    <tr style=\"text-align: right;\">\n",
       "      <th></th>\n",
       "      <th>id</th>\n",
       "      <th>tenure</th>\n",
       "      <th>claim.ind</th>\n",
       "      <th>n.adults</th>\n",
       "      <th>n.children</th>\n",
       "      <th>ni.marital.status</th>\n",
       "      <th>premium</th>\n",
       "      <th>len.at.res</th>\n",
       "      <th>ni.age</th>\n",
       "      <th>ni.gender.lower</th>\n",
       "      <th>sales.channel.lower</th>\n",
       "      <th>coverage.type.lower</th>\n",
       "      <th>dwelling.type.lower</th>\n",
       "      <th>credit.lower</th>\n",
       "    </tr>\n",
       "  </thead>\n",
       "  <tbody>\n",
       "    <tr>\n",
       "      <th>0</th>\n",
       "      <td>7583</td>\n",
       "      <td>5.0</td>\n",
       "      <td>0.0</td>\n",
       "      <td>1.0</td>\n",
       "      <td>3</td>\n",
       "      <td>1.0</td>\n",
       "      <td>913.623201</td>\n",
       "      <td>18.0</td>\n",
       "      <td>35.0</td>\n",
       "      <td>f</td>\n",
       "      <td>broker</td>\n",
       "      <td>c</td>\n",
       "      <td>tenant</td>\n",
       "      <td>medium</td>\n",
       "    </tr>\n",
       "    <tr>\n",
       "      <th>1</th>\n",
       "      <td>7584</td>\n",
       "      <td>15.0</td>\n",
       "      <td>1.0</td>\n",
       "      <td>1.0</td>\n",
       "      <td>4</td>\n",
       "      <td>1.0</td>\n",
       "      <td>1018.426114</td>\n",
       "      <td>15.0</td>\n",
       "      <td>59.0</td>\n",
       "      <td>f</td>\n",
       "      <td>phone</td>\n",
       "      <td>a</td>\n",
       "      <td>house</td>\n",
       "      <td>medium</td>\n",
       "    </tr>\n",
       "    <tr>\n",
       "      <th>2</th>\n",
       "      <td>7585</td>\n",
       "      <td>1.0</td>\n",
       "      <td>1.0</td>\n",
       "      <td>3.0</td>\n",
       "      <td>2</td>\n",
       "      <td>1.0</td>\n",
       "      <td>928.418533</td>\n",
       "      <td>13.0</td>\n",
       "      <td>27.0</td>\n",
       "      <td>m</td>\n",
       "      <td>broker</td>\n",
       "      <td>b</td>\n",
       "      <td>condo</td>\n",
       "      <td>medium</td>\n",
       "    </tr>\n",
       "    <tr>\n",
       "      <th>3</th>\n",
       "      <td>7586</td>\n",
       "      <td>12.0</td>\n",
       "      <td>0.0</td>\n",
       "      <td>4.0</td>\n",
       "      <td>0</td>\n",
       "      <td>0.0</td>\n",
       "      <td>877.649917</td>\n",
       "      <td>19.0</td>\n",
       "      <td>35.0</td>\n",
       "      <td>m</td>\n",
       "      <td>broker</td>\n",
       "      <td>b</td>\n",
       "      <td>condo</td>\n",
       "      <td>high</td>\n",
       "    </tr>\n",
       "    <tr>\n",
       "      <th>4</th>\n",
       "      <td>7587</td>\n",
       "      <td>11.0</td>\n",
       "      <td>0.0</td>\n",
       "      <td>1.0</td>\n",
       "      <td>9</td>\n",
       "      <td>1.0</td>\n",
       "      <td>947.281913</td>\n",
       "      <td>18.0</td>\n",
       "      <td>34.0</td>\n",
       "      <td>f</td>\n",
       "      <td>broker</td>\n",
       "      <td>a</td>\n",
       "      <td>condo</td>\n",
       "      <td>high</td>\n",
       "    </tr>\n",
       "  </tbody>\n",
       "</table>\n",
       "</div>"
      ],
      "text/plain": [
       "     id  tenure  claim.ind  n.adults  n.children  ni.marital.status  \\\n",
       "0  7583     5.0        0.0       1.0           3                1.0   \n",
       "1  7584    15.0        1.0       1.0           4                1.0   \n",
       "2  7585     1.0        1.0       3.0           2                1.0   \n",
       "3  7586    12.0        0.0       4.0           0                0.0   \n",
       "4  7587    11.0        0.0       1.0           9                1.0   \n",
       "\n",
       "       premium  len.at.res  ni.age ni.gender.lower sales.channel.lower  \\\n",
       "0   913.623201        18.0    35.0               f              broker   \n",
       "1  1018.426114        15.0    59.0               f               phone   \n",
       "2   928.418533        13.0    27.0               m              broker   \n",
       "3   877.649917        19.0    35.0               m              broker   \n",
       "4   947.281913        18.0    34.0               f              broker   \n",
       "\n",
       "  coverage.type.lower dwelling.type.lower credit.lower  \n",
       "0                   c              tenant       medium  \n",
       "1                   a               house       medium  \n",
       "2                   b               condo       medium  \n",
       "3                   b               condo         high  \n",
       "4                   a               condo         high  "
      ]
     },
     "execution_count": 8,
     "metadata": {},
     "output_type": "execute_result"
    }
   ],
   "source": [
    "#data_new.head()"
   ]
  },
  {
   "cell_type": "code",
   "execution_count": 9,
   "metadata": {},
   "outputs": [
    {
     "data": {
      "text/plain": [
       "array(['f', 'm', nan], dtype=object)"
      ]
     },
     "execution_count": 9,
     "metadata": {},
     "output_type": "execute_result"
    }
   ],
   "source": [
    "#data_new['ni.gender.lower'].unique()"
   ]
  },
  {
   "cell_type": "code",
   "execution_count": 10,
   "metadata": {},
   "outputs": [],
   "source": [
    "#data_new['ni.gender'] = data['ni.gender.'].replace({'f':0, 'm':1})"
   ]
  },
  {
   "cell_type": "code",
   "execution_count": 11,
   "metadata": {},
   "outputs": [
    {
     "data": {
      "text/plain": [
       "array(['broker', 'phone', 'online', nan], dtype=object)"
      ]
     },
     "execution_count": 11,
     "metadata": {},
     "output_type": "execute_result"
    }
   ],
   "source": [
    "#data_new['sales.channel.lower'].unique()"
   ]
  },
  {
   "cell_type": "code",
   "execution_count": 12,
   "metadata": {},
   "outputs": [],
   "source": [
    "#data_new['sales.channel.lower'] = data['sales.channel.lower'].replace({'broker':0, 'phone':1, 'online':2})"
   ]
  },
  {
   "cell_type": "code",
   "execution_count": 13,
   "metadata": {},
   "outputs": [
    {
     "data": {
      "text/plain": [
       "array(['c', 'a', 'b', nan], dtype=object)"
      ]
     },
     "execution_count": 13,
     "metadata": {},
     "output_type": "execute_result"
    }
   ],
   "source": [
    "#data_new['coverage.type.lower'].unique()"
   ]
  },
  {
   "cell_type": "code",
   "execution_count": 14,
   "metadata": {},
   "outputs": [],
   "source": [
    "#data_new['coverage.type.lower'] = data['coverage.type.lower'].replace({'c':2, 'a':0, 'b':1})"
   ]
  },
  {
   "cell_type": "code",
   "execution_count": 15,
   "metadata": {},
   "outputs": [
    {
     "data": {
      "text/plain": [
       "array(['tenant', 'house', 'condo', 'landlord', nan], dtype=object)"
      ]
     },
     "execution_count": 15,
     "metadata": {},
     "output_type": "execute_result"
    }
   ],
   "source": [
    "#data_new['dwelling.type.lower'].unique()"
   ]
  },
  {
   "cell_type": "code",
   "execution_count": 16,
   "metadata": {},
   "outputs": [],
   "source": [
    "#data_new['dwelling.type.lower'] = data['dwelling.type.lower'].replace({'tenant':0, 'condo':1, 'house':2, 'landlord':3})"
   ]
  },
  {
   "cell_type": "code",
   "execution_count": 17,
   "metadata": {},
   "outputs": [
    {
     "data": {
      "text/plain": [
       "array(['medium', 'high', 'low', nan], dtype=object)"
      ]
     },
     "execution_count": 17,
     "metadata": {},
     "output_type": "execute_result"
    }
   ],
   "source": [
    "#data_new['credit.lower'].unique()"
   ]
  },
  {
   "cell_type": "code",
   "execution_count": 18,
   "metadata": {},
   "outputs": [],
   "source": [
    "#data_new['credit.lower'] = data['credit.lower'].replace({'high':0, 'medium':1, 'low':2})"
   ]
  },
  {
   "cell_type": "code",
   "execution_count": 5,
   "metadata": {},
   "outputs": [],
   "source": [
    "df['ni.gender'] = df['ni.gender'].replace({'F':0, 'M':1})\n",
    "df['sales.channel'] = df['sales.channel'].replace({'Broker':0, 'Phone':1, 'Online':2})\n",
    "df['coverage.type'] = df['coverage.type'].replace({'C':2, 'A':0, 'B':1})\n",
    "df['dwelling.type'] = df['dwelling.type'].replace({'Tenant':0, 'Condo':1, 'House':2, 'Landlord':3})\n",
    "df['credit'] = df['credit'].replace({'high':0, 'medium':1, 'low':2})"
   ]
  },
  {
   "cell_type": "code",
   "execution_count": 6,
   "metadata": {},
   "outputs": [],
   "source": [
    "data_new = df.fillna(0)"
   ]
  },
  {
   "cell_type": "code",
   "execution_count": 7,
   "metadata": {},
   "outputs": [
    {
     "data": {
      "text/plain": [
       "id                   0\n",
       "tenure               0\n",
       "claim.ind            0\n",
       "n.adults             0\n",
       "n.children           0\n",
       "ni.gender            0\n",
       "ni.marital.status    0\n",
       "premium              0\n",
       "sales.channel        0\n",
       "coverage.type        0\n",
       "dwelling.type        0\n",
       "len.at.res           0\n",
       "credit               0\n",
       "ni.age               0\n",
       "dtype: int64"
      ]
     },
     "execution_count": 7,
     "metadata": {},
     "output_type": "execute_result"
    }
   ],
   "source": [
    "data_new.isnull().sum()"
   ]
  },
  {
   "cell_type": "code",
   "execution_count": 8,
   "metadata": {},
   "outputs": [
    {
     "data": {
      "text/html": [
       "<div>\n",
       "<style scoped>\n",
       "    .dataframe tbody tr th:only-of-type {\n",
       "        vertical-align: middle;\n",
       "    }\n",
       "\n",
       "    .dataframe tbody tr th {\n",
       "        vertical-align: top;\n",
       "    }\n",
       "\n",
       "    .dataframe thead th {\n",
       "        text-align: right;\n",
       "    }\n",
       "</style>\n",
       "<table border=\"1\" class=\"dataframe\">\n",
       "  <thead>\n",
       "    <tr style=\"text-align: right;\">\n",
       "      <th></th>\n",
       "      <th>id</th>\n",
       "      <th>tenure</th>\n",
       "      <th>claim.ind</th>\n",
       "      <th>n.adults</th>\n",
       "      <th>n.children</th>\n",
       "      <th>ni.gender</th>\n",
       "      <th>ni.marital.status</th>\n",
       "      <th>premium</th>\n",
       "      <th>sales.channel</th>\n",
       "      <th>coverage.type</th>\n",
       "      <th>dwelling.type</th>\n",
       "      <th>len.at.res</th>\n",
       "      <th>credit</th>\n",
       "      <th>ni.age</th>\n",
       "    </tr>\n",
       "  </thead>\n",
       "  <tbody>\n",
       "    <tr>\n",
       "      <th>0</th>\n",
       "      <td>7583</td>\n",
       "      <td>5.0</td>\n",
       "      <td>0.0</td>\n",
       "      <td>1.0</td>\n",
       "      <td>3</td>\n",
       "      <td>0.0</td>\n",
       "      <td>1.0</td>\n",
       "      <td>913.623201</td>\n",
       "      <td>0.0</td>\n",
       "      <td>2.0</td>\n",
       "      <td>0.0</td>\n",
       "      <td>18.0</td>\n",
       "      <td>1.0</td>\n",
       "      <td>35.0</td>\n",
       "    </tr>\n",
       "    <tr>\n",
       "      <th>1</th>\n",
       "      <td>7584</td>\n",
       "      <td>15.0</td>\n",
       "      <td>1.0</td>\n",
       "      <td>1.0</td>\n",
       "      <td>4</td>\n",
       "      <td>0.0</td>\n",
       "      <td>1.0</td>\n",
       "      <td>1018.426114</td>\n",
       "      <td>1.0</td>\n",
       "      <td>0.0</td>\n",
       "      <td>2.0</td>\n",
       "      <td>15.0</td>\n",
       "      <td>1.0</td>\n",
       "      <td>59.0</td>\n",
       "    </tr>\n",
       "    <tr>\n",
       "      <th>2</th>\n",
       "      <td>7585</td>\n",
       "      <td>1.0</td>\n",
       "      <td>1.0</td>\n",
       "      <td>3.0</td>\n",
       "      <td>2</td>\n",
       "      <td>1.0</td>\n",
       "      <td>1.0</td>\n",
       "      <td>928.418533</td>\n",
       "      <td>0.0</td>\n",
       "      <td>1.0</td>\n",
       "      <td>1.0</td>\n",
       "      <td>13.0</td>\n",
       "      <td>1.0</td>\n",
       "      <td>27.0</td>\n",
       "    </tr>\n",
       "    <tr>\n",
       "      <th>3</th>\n",
       "      <td>7586</td>\n",
       "      <td>12.0</td>\n",
       "      <td>0.0</td>\n",
       "      <td>4.0</td>\n",
       "      <td>0</td>\n",
       "      <td>1.0</td>\n",
       "      <td>0.0</td>\n",
       "      <td>877.649917</td>\n",
       "      <td>0.0</td>\n",
       "      <td>1.0</td>\n",
       "      <td>1.0</td>\n",
       "      <td>19.0</td>\n",
       "      <td>0.0</td>\n",
       "      <td>35.0</td>\n",
       "    </tr>\n",
       "    <tr>\n",
       "      <th>4</th>\n",
       "      <td>7587</td>\n",
       "      <td>11.0</td>\n",
       "      <td>0.0</td>\n",
       "      <td>1.0</td>\n",
       "      <td>9</td>\n",
       "      <td>0.0</td>\n",
       "      <td>1.0</td>\n",
       "      <td>947.281913</td>\n",
       "      <td>0.0</td>\n",
       "      <td>0.0</td>\n",
       "      <td>1.0</td>\n",
       "      <td>18.0</td>\n",
       "      <td>0.0</td>\n",
       "      <td>34.0</td>\n",
       "    </tr>\n",
       "  </tbody>\n",
       "</table>\n",
       "</div>"
      ],
      "text/plain": [
       "     id  tenure  claim.ind  n.adults  n.children  ni.gender  \\\n",
       "0  7583     5.0        0.0       1.0           3        0.0   \n",
       "1  7584    15.0        1.0       1.0           4        0.0   \n",
       "2  7585     1.0        1.0       3.0           2        1.0   \n",
       "3  7586    12.0        0.0       4.0           0        1.0   \n",
       "4  7587    11.0        0.0       1.0           9        0.0   \n",
       "\n",
       "   ni.marital.status      premium  sales.channel  coverage.type  \\\n",
       "0                1.0   913.623201            0.0            2.0   \n",
       "1                1.0  1018.426114            1.0            0.0   \n",
       "2                1.0   928.418533            0.0            1.0   \n",
       "3                0.0   877.649917            0.0            1.0   \n",
       "4                1.0   947.281913            0.0            0.0   \n",
       "\n",
       "   dwelling.type  len.at.res  credit  ni.age  \n",
       "0            0.0        18.0     1.0    35.0  \n",
       "1            2.0        15.0     1.0    59.0  \n",
       "2            1.0        13.0     1.0    27.0  \n",
       "3            1.0        19.0     0.0    35.0  \n",
       "4            1.0        18.0     0.0    34.0  "
      ]
     },
     "execution_count": 8,
     "metadata": {},
     "output_type": "execute_result"
    }
   ],
   "source": [
    "df.head()"
   ]
  },
  {
   "cell_type": "code",
   "execution_count": 19,
   "metadata": {},
   "outputs": [],
   "source": [
    "data_new.to_csv('data/new_test_for_random_forest.csv', index=False)"
   ]
  }
 ],
 "metadata": {
  "interpreter": {
   "hash": "aee8b7b246df8f9039afb4144a1f6fd8d2ca17a180786b69acc140d282b71a49"
  },
  "kernelspec": {
   "display_name": "Python 3.10.4 64-bit",
   "language": "python",
   "name": "python3"
  },
  "language_info": {
   "codemirror_mode": {
    "name": "ipython",
    "version": 3
   },
   "file_extension": ".py",
   "mimetype": "text/x-python",
   "name": "python",
   "nbconvert_exporter": "python",
   "pygments_lexer": "ipython3",
   "version": "3.10.4"
  },
  "orig_nbformat": 4
 },
 "nbformat": 4,
 "nbformat_minor": 2
}
