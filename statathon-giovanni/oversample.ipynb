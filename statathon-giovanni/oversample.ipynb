{
 "cells": [
  {
   "cell_type": "code",
   "execution_count": 2,
   "metadata": {},
   "outputs": [],
   "source": [
    "# import utility modules\n",
    "import pandas as pd\n",
    "import matplotlib.pyplot as plt\n",
    "import numpy as np\n",
    "from sklearn.model_selection import train_test_split\n",
    "\n",
    "# import ml tools for prediction\n",
    "from sklearn.ensemble import RandomForestRegressor\n",
    "from sklearn.linear_model import LogisticRegression\n",
    "from sklearn.metrics import confusion_matrix, classification_report"
   ]
  },
  {
   "cell_type": "code",
   "execution_count": 3,
   "metadata": {},
   "outputs": [
    {
     "name": "stdout",
     "output_type": "stream",
     "text": [
      "0    713637\n",
      "2    222979\n",
      "1     73486\n",
      "Name: cancel, dtype: int64\n",
      "0    713637\n",
      "1    296465\n",
      "Name: cancel, dtype: int64\n"
     ]
    }
   ],
   "source": [
    "# load dataset and print counts\n",
    "df = pd.read_csv('data/train8(all_dummy).csv')\n",
    "cols_to_drop = ['id', 'ni.age', 'len.at.res', 'premium']\n",
    "df = df.drop(cols_to_drop, axis=1)\n",
    "print(df['cancel'].value_counts())\n",
    "df.loc[(df['cancel'] == 2)] = 1 # replace all 2's w/ 1's\n",
    "print(df['cancel'].value_counts())"
   ]
  },
  {
   "cell_type": "code",
   "execution_count": 18,
   "metadata": {},
   "outputs": [],
   "source": [
    "# split and train w/o balancing\n",
    "X = df.drop('cancel', axis=1).values\n",
    "y = df['cancel'].values\n",
    "X_train, X_test, y_train, y_test = train_test_split(X, y, test_size=0.3, random_state=0)"
   ]
  },
  {
   "cell_type": "code",
   "execution_count": 19,
   "metadata": {},
   "outputs": [
    {
     "name": "stdout",
     "output_type": "stream",
     "text": [
      "--UNBALANCED DATA--\n",
      "              precision    recall  f1-score   support\n",
      "\n",
      "           0       0.91      1.00      0.95    213737\n",
      "           1       1.00      0.75      0.86     89294\n",
      "\n",
      "    accuracy                           0.93    303031\n",
      "   macro avg       0.95      0.88      0.90    303031\n",
      "weighted avg       0.93      0.93      0.92    303031\n",
      "\n"
     ]
    }
   ],
   "source": [
    "model = LogisticRegression(max_iter=10000)\n",
    "model.fit(X_train, y_train)\n",
    "pred = model.predict(X_test)\n",
    "# compare_df = pd.DataFrame({'Actual':y_test, 'Predicted': pred})\n",
    "print(\"--UNBALANCED DATA--\")\n",
    "print(classification_report(y_test, pred))"
   ]
  },
  {
   "cell_type": "code",
   "execution_count": 20,
   "metadata": {},
   "outputs": [
    {
     "data": {
      "text/plain": [
       "0.9262187696968297"
      ]
     },
     "execution_count": 20,
     "metadata": {},
     "output_type": "execute_result"
    }
   ],
   "source": [
    "model.score(X_test, y_test)"
   ]
  },
  {
   "cell_type": "code",
   "execution_count": 21,
   "metadata": {},
   "outputs": [
    {
     "name": "stdout",
     "output_type": "stream",
     "text": [
      "[[213506    231]\n",
      " [ 22127  67167]]\n"
     ]
    }
   ],
   "source": [
    "# print confusion matrix\n",
    "cm = confusion_matrix(y_test, pred)\n",
    "print(cm)"
   ]
  },
  {
   "cell_type": "code",
   "execution_count": 22,
   "metadata": {},
   "outputs": [
    {
     "name": "stdout",
     "output_type": "stream",
     "text": [
      "Actual count of categories in 'cancel' w/o balancing:\n",
      "category '0': 499900\n",
      "category '1 or 2': 207171\n"
     ]
    }
   ],
   "source": [
    "print(\"Actual count of categories in 'cancel' w/o balancing:\")\n",
    "print(\"category '0': {}\".format(sum(y_train == 0)))\n",
    "print(\"category '1 or 2': {}\".format(sum(y_train == 1)))"
   ]
  },
  {
   "cell_type": "code",
   "execution_count": 23,
   "metadata": {},
   "outputs": [],
   "source": [
    "# split and train using oversampling\n",
    "from imblearn.over_sampling import SMOTE\n",
    "sm = SMOTE(random_state=2)\n",
    "X_train_res, y_train_res = sm.fit_resample(X_train, y_train.ravel())"
   ]
  },
  {
   "cell_type": "code",
   "execution_count": 24,
   "metadata": {},
   "outputs": [
    {
     "name": "stdout",
     "output_type": "stream",
     "text": [
      "New count of categories in 'cancel' w/ balancing:\n",
      "category '0': 499900\n",
      "category '1 or 2': 499900\n"
     ]
    }
   ],
   "source": [
    "print(\"New count of categories in 'cancel' w/ balancing:\")\n",
    "print(\"category '0': {}\".format(sum(y_train_res == 0)))\n",
    "print(\"category '1 or 2': {}\".format(sum(y_train_res == 1)))"
   ]
  },
  {
   "cell_type": "code",
   "execution_count": 25,
   "metadata": {},
   "outputs": [
    {
     "name": "stdout",
     "output_type": "stream",
     "text": [
      "--BALANCED DATA--\n"
     ]
    },
    {
     "name": "stderr",
     "output_type": "stream",
     "text": [
      "/Library/Frameworks/Python.framework/Versions/3.10/lib/python3.10/site-packages/sklearn/linear_model/_logistic.py:814: ConvergenceWarning: lbfgs failed to converge (status=1):\n",
      "STOP: TOTAL NO. of ITERATIONS REACHED LIMIT.\n",
      "\n",
      "Increase the number of iterations (max_iter) or scale the data as shown in:\n",
      "    https://scikit-learn.org/stable/modules/preprocessing.html\n",
      "Please also refer to the documentation for alternative solver options:\n",
      "    https://scikit-learn.org/stable/modules/linear_model.html#logistic-regression\n",
      "  n_iter_i = _check_optimize_result(\n"
     ]
    },
    {
     "name": "stdout",
     "output_type": "stream",
     "text": [
      "              precision    recall  f1-score   support\n",
      "\n",
      "           0       0.91      0.95      0.93    213737\n",
      "           1       0.87      0.76      0.81     89294\n",
      "\n",
      "    accuracy                           0.90    303031\n",
      "   macro avg       0.89      0.86      0.87    303031\n",
      "weighted avg       0.89      0.90      0.89    303031\n",
      "\n"
     ]
    }
   ],
   "source": [
    "print(\"--BALANCED DATA--\")\n",
    "balanced_model = LogisticRegression()\n",
    "balanced_model.fit(X_train_res, y_train_res.ravel())\n",
    "pred = balanced_model.predict(X_test)\n",
    "print(classification_report(y_test, pred))"
   ]
  },
  {
   "cell_type": "code",
   "execution_count": 26,
   "metadata": {},
   "outputs": [
    {
     "name": "stdout",
     "output_type": "stream",
     "text": [
      "[[203379  10358]\n",
      " [ 21186  68108]]\n"
     ]
    }
   ],
   "source": [
    "# print confusion matrix\n",
    "cm = confusion_matrix(y_test, pred)\n",
    "print(cm)"
   ]
  },
  {
   "cell_type": "code",
   "execution_count": 27,
   "metadata": {},
   "outputs": [
    {
     "data": {
      "text/plain": [
       "0.9262187696968297"
      ]
     },
     "execution_count": 27,
     "metadata": {},
     "output_type": "execute_result"
    }
   ],
   "source": [
    "model.score(X_test, y_test)"
   ]
  }
 ],
 "metadata": {
  "interpreter": {
   "hash": "aee8b7b246df8f9039afb4144a1f6fd8d2ca17a180786b69acc140d282b71a49"
  },
  "kernelspec": {
   "display_name": "Python 3.10.4 64-bit",
   "language": "python",
   "name": "python3"
  },
  "language_info": {
   "codemirror_mode": {
    "name": "ipython",
    "version": 3
   },
   "file_extension": ".py",
   "mimetype": "text/x-python",
   "name": "python",
   "nbconvert_exporter": "python",
   "pygments_lexer": "ipython3",
   "version": "3.10.4"
  },
  "orig_nbformat": 4
 },
 "nbformat": 4,
 "nbformat_minor": 2
}
